{
 "cells": [
  {
   "cell_type": "code",
   "execution_count": 19,
   "id": "7f4573b5",
   "metadata": {},
   "outputs": [],
   "source": [
    "import numpy as np\n",
    "from astropy.constants import m_p, m_e\n",
    "from FD_functions.functions_3d import pizzo_maccormack, upwind, maccormack\n",
    "import time\n",
    "import astropy.units as u"
   ]
  },
  {
   "cell_type": "code",
   "execution_count": 20,
   "id": "a3dca1e7",
   "metadata": {},
   "outputs": [],
   "source": [
    "import matplotlib.pyplot as plt\n",
    "import matplotlib\n",
    "font = {'family' : 'serif',\n",
    "        'size'   : 14}\n",
    "\n",
    "matplotlib.rc('font', **font)\n",
    "matplotlib.rc('xtick', labelsize=14) \n",
    "matplotlib.rc('ytick', labelsize=14) "
   ]
  },
  {
   "cell_type": "markdown",
   "id": "2a3baf52",
   "metadata": {},
   "source": [
    "# The Prototype Stream Configuration $ r = 35 R_{S}$ [Pizzo 1979, 1980]. \n"
   ]
  },
  {
   "cell_type": "code",
   "execution_count": 42,
   "id": "49b84c91",
   "metadata": {},
   "outputs": [],
   "source": [
    "nphi = int(360/5)\n",
    "nt = int(180/2)\n",
    "nr = 100\n",
    "p = np.linspace(0, 2*np.pi, nphi)\n",
    "t = np.linspace(-np.pi/2, np.pi/2, nt)\n",
    "r = (np.linspace(35, 220, nr)*u.solRad).to(u.km)\n",
    "\n",
    "PHI, THETA = np.meshgrid(p, np.linspace(0.05, np.pi-0.05, len(t)))"
   ]
  },
  {
   "cell_type": "code",
   "execution_count": 43,
   "id": "a1e854e0",
   "metadata": {},
   "outputs": [],
   "source": [
    "u_max = 580\n",
    "u_min = 290\n",
    "\n",
    "A = (u_max - u_min)/u_min\n",
    "\n",
    "f = np.zeros((PHI.T).shape)\n",
    "for ii in range(len(p)):\n",
    "    for jj in range(len(t)):\n",
    "        L = np.sqrt((p[ii]- np.pi)**2 + (t[jj])**2)\n",
    "        f[ii, jj] = (np.sin(np.pi * L)/ (np.pi * L))**2\n",
    "vr = u_min *(np.ones(PHI.T.shape) + A*f)\n",
    "\n"
   ]
  },
  {
   "cell_type": "code",
   "execution_count": 44,
   "id": "07508770",
   "metadata": {},
   "outputs": [
    {
     "data": {
      "text/plain": [
       "[<matplotlib.axis.YTick at 0x128ef15b0>,\n",
       " <matplotlib.axis.YTick at 0x1291e0b50>,\n",
       " <matplotlib.axis.YTick at 0x129027910>]"
      ]
     },
     "execution_count": 44,
     "metadata": {},
     "output_type": "execute_result"
    },
    {
     "data": {
      "image/png": "[encoded data removed]",
      "text/plain": [
       "<Figure size 576x360 with 2 Axes>"
      ]
     },
     "metadata": {
      "needs_background": "light"
     },
     "output_type": "display_data"
    }
   ],
   "source": [
    "fig, ax = plt.subplots(figsize=(8, 5))\n",
    "pos = ax.contourf(180 / np.pi * PHI, 180 / np.pi * THETA, \n",
    "                       vr.T, cmap=\"viridis\")\n",
    "cbar = fig.colorbar(pos, ax=ax)\n",
    "cbar.ax.set_ylabel(r'km/s', rotation=90, fontsize=14)\n",
    "ax.set_title(r\"$v_{r}$\")\n",
    "\n",
    "ax.set_xlabel(\"Longitude (Deg.)\")\n",
    "ax.set_ylabel(\"Latitude (Deg.)\")\n",
    "ax.set_xticks([0, 90, 180, 270, 360])\n",
    "ax.set_yticks([0, 90, 180])"
   ]
  },
  {
   "cell_type": "markdown",
   "id": "4d36dedb",
   "metadata": {},
   "source": [
    "# Initialize Primitive Variables"
   ]
  },
  {
   "cell_type": "code",
   "execution_count": 45,
   "id": "f92c8f22",
   "metadata": {},
   "outputs": [
    {
     "data": {
      "text/latex": [
       "$9.1093837 \\times 10^{-31} \\; \\mathrm{kg}$"
      ],
      "text/plain": [
       "<<class 'astropy.constants.codata2018.CODATA2018'> name='Electron mass' value=9.1093837015e-31 uncertainty=2.8e-40 unit='kg' reference='CODATA 2018'>"
      ]
     },
     "execution_count": 45,
     "metadata": {},
     "output_type": "execute_result"
    }
   ],
   "source": [
    "m_e"
   ]
  },
  {
   "cell_type": "code",
   "execution_count": null,
   "id": "afc02194",
   "metadata": {},
   "outputs": [],
   "source": [
    "rho_0 = (370 *m_p / u.cm** 3).to(u.kg / u.km ** 3) #*m_p\n",
    "p_0 = (1.14 * 1e-9* u.dyne/(u.cm**2)).to(u.kg / (u.s ** 2 * u.km))#/m_p"
   ]
  },
  {
   "cell_type": "code",
   "execution_count": null,
   "id": "944646af",
   "metadata": {},
   "outputs": [],
   "source": [
    "idx = 1\n",
    "\n",
    "dr = r[1] - r[0]\n",
    "dp = p[1] - p[0]\n",
    "dt = t[1] - t[0]\n",
    "\n",
    "U_SOL = np.zeros((5, len(p), len(t), len(r)))\n",
    "\n",
    "U_SOL[:, :, :, 0] = np.array((vr,\n",
    "                              rho_0.value * np.ones(vr.shape),\n",
    "                              p_0.value * np.ones(vr.shape),\n",
    "                              np.zeros(vr.shape),\n",
    "                              np.zeros(vr.shape)))"
   ]
  },
  {
   "cell_type": "code",
   "execution_count": null,
   "id": "79089547",
   "metadata": {
    "scrolled": false
   },
   "outputs": [],
   "source": [
    "# define mesh grid\n",
    "PHI, THETA = np.meshgrid(p, np.linspace(0.05, np.pi-0.05, len(t)))\n",
    "\n",
    "jj=0\n",
    "# numerically propagte in the radial direction.\n",
    "for ii in range(len(r) -1):\n",
    "    U_SOL[:, :, :, ii + 1] = upwind(U=U_SOL[:, :, :, ii],\n",
    "                                              dr=dr,\n",
    "                                              dp=dp,\n",
    "                                              dt=dt,\n",
    "                                              r=r[ii],\n",
    "                                              THETA=THETA.T)\n",
    "    if ii % 5 == 0:\n",
    "        print(ii)\n",
    "        print((r[ii]).to(u.AU))\n",
    "        fig, ax = plt.subplots(nrows=5, sharex=True, sharey=True, figsize=(5, 15))\n",
    "        pos = ax[0].contourf(180 / np.pi * PHI, 180 / np.pi * THETA, U_SOL[0, :, :, ii + 1].T,\n",
    "                               cmap=\"viridis\")\n",
    "        cbar = fig.colorbar(pos, ax=ax[0])\n",
    "        cbar.ax.set_ylabel(r'km/s', rotation=90, fontsize=14)\n",
    "        ax[0].set_title(r\"$v_{r}$\")\n",
    "\n",
    "        pos = ax[1].contourf(180 / np.pi * PHI, 180 / np.pi * THETA,\n",
    "                               (U_SOL[1, :, :, ii + 1].T /m_p.value * 1 / u.km ** 3).to(1 / u.cm ** 3),\n",
    "                               cmap=\"viridis\")\n",
    "        cbar = fig.colorbar(pos, ax=ax[1])\n",
    "        cbar.ax.set_ylabel(r'$\\frac{1}{cm^3}$', rotation=90, fontsize=14)\n",
    "        ax[1].set_title(r\"$n_{\\rho}$\")\n",
    "\n",
    "        pos = ax[2].contourf(180 / np.pi * PHI, 180 / np.pi * THETA,\n",
    "                               (U_SOL[2, :, :, ii + 1].T * u.kg / (u.s ** 2 * u.km)).to(u.dyne / u.cm ** 2),\n",
    "                               cmap=\"viridis\")\n",
    "        cbar = fig.colorbar(pos, ax=ax[2])\n",
    "        cbar.ax.set_ylabel(r'$\\frac{dyne}{cm^2}$', rotation=90, fontsize=14)\n",
    "        ax[2].set_title(r\"$P$\")\n",
    "\n",
    "        pos = ax[3].contourf(180 / np.pi * PHI, 180 / np.pi * THETA, U_SOL[3, :, :, ii + 1].T,\n",
    "                               cmap=\"viridis\")\n",
    "        cbar = fig.colorbar(pos, ax=ax[3])\n",
    "        cbar.ax.set_ylabel(r'km/s', rotation=90, fontsize=14)\n",
    "        ax[3].set_title(r\"$v_{\\phi}$\")\n",
    "\n",
    "        pos = ax[4].contourf(180 / np.pi * PHI, 180 / np.pi * THETA, U_SOL[4, :, :, ii + 1].T, \n",
    "                               cmap=\"viridis\")\n",
    "        cbar = fig.colorbar(pos, ax=ax[4])\n",
    "        cbar.ax.set_ylabel(r'km/s', rotation=90, fontsize=14)\n",
    "        ax[4].set_title(r\"$v_{\\theta}$\")\n",
    "        ax[4].set_xticks([0, 90, 180, 270, 360])\n",
    "        ax[4].set_yticks([0, 90, 180])\n",
    "        ax[4].set_xlabel(\"Longitude (Deg.)\")\n",
    "        ax[4].set_ylabel(\"Latitude (Deg.)\")\n",
    "        ax[3].set_ylabel(\"Latitude (Deg.)\")\n",
    "        ax[2].set_ylabel(\"Latitude (Deg.)\")\n",
    "        ax[1].set_ylabel(\"Latitude (Deg.)\")\n",
    "        ax[0].set_ylabel(\"Latitude (Deg.)\")\n",
    "        #fig.suptitle(\"r = \" + str(round(((new_r[ii]).to(u.AU)).value, 2)) + \"AU\")\n",
    "        fig.suptitle(\"r = \" + str(round((r[ii]).to(u.AU).value, 1)) + \"AU\")\n",
    "        plt.tight_layout()\n",
    "        plt.show()\n",
    "        jj += 1\n",
    "        fig.savefig(\"figs/artificial_bc/fig_\" + str(jj) + \".png\", dpi=400)\n",
    "        plt.close()"
   ]
  },
  {
   "cell_type": "code",
   "execution_count": null,
   "id": "7199da15",
   "metadata": {},
   "outputs": [],
   "source": []
  },
  {
   "cell_type": "code",
   "execution_count": null,
   "id": "c50e0b86",
   "metadata": {},
   "outputs": [],
   "source": []
  }
 ],
 "metadata": {
  "kernelspec": {
   "display_name": "Python 3 (ipykernel)",
   "language": "python",
   "name": "python3"
  },
  "language_info": {
   "codemirror_mode": {
    "name": "ipython",
    "version": 3
   },
   "file_extension": ".py",
   "mimetype": "text/x-python",
   "name": "python",
   "nbconvert_exporter": "python",
   "pygments_lexer": "ipython3",
   "version": "3.9.6"
  }
 },
 "nbformat": 4,
 "nbformat_minor": 5
}
