{
 "cells": [
  {
   "cell_type": "code",
   "execution_count": 2,
   "id": "ba7c28ca",
   "metadata": {},
   "outputs": [],
   "source": [
    "import matplotlib.pyplot as plt\n",
    "from scipy import stats\n",
    "from scipy.signal import argrelextrema\n",
    "from scipy import interpolate\n",
    "import numpy as np\n",
    "import scipy\n",
    "import copy\n",
    "import pickle\n",
    "import math\n",
    "import datetime as dt \n",
    "\n",
    "import heliopy.data.spice as spicedata\n",
    "import heliopy.spice as spice\n",
    "from astropy.coordinates import SkyCoord\n",
    "import astropy.units as u\n",
    "from sunpy.coordinates.sun import carrington_rotation_time"
   ]
  },
  {
   "cell_type": "code",
   "execution_count": null,
   "id": "23097090",
   "metadata": {},
   "outputs": [],
   "source": []
  }
 ],
 "metadata": {
  "kernelspec": {
   "display_name": "Python 3 (ipykernel)",
   "language": "python",
   "name": "python3"
  },
  "language_info": {
   "codemirror_mode": {
    "name": "ipython",
    "version": 3
   },
   "file_extension": ".py",
   "mimetype": "text/x-python",
   "name": "python",
   "nbconvert_exporter": "python",
   "pygments_lexer": "ipython3",
   "version": "3.9.6"
  }
 },
 "nbformat": 4,
 "nbformat_minor": 5
}
